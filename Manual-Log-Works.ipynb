{
  "cells": [
    {
      "cell_type": "markdown",
      "metadata": {
        "nteract": {
          "transient": {
            "deleting": false
          }
        }
      },
      "source": "# Workbook to maintain work ticks\r\n\r\nThis notebook uses C# interactive shell and SQL API of CosmosDB. It is used to maintain the records of different project execution timer.\r\n\r\n\r\n## Declaring constants for the notebook\r\n\r\n"
    },
    {
      "cell_type": "code",
      "execution_count": 11,
      "metadata": {
        "collapsed": true,
        "execution": {
          "iopub.status.busy": "2021-01-11T09:04:27.412Z",
          "iopub.status.idle": "2021-01-11T09:04:27.468Z",
          "shell.execute_reply": "2021-01-11T09:04:27.473Z"
        },
        "jupyter": {
          "outputs_hidden": false,
          "source_hidden": false
        },
        "nteract": {
          "transient": {
            "deleting": false
          }
        },
        "trusted": false
      },
      "outputs": [
        {
          "data": {},
          "execution_count": 11,
          "metadata": {},
          "output_type": "execute_result"
        }
      ],
      "source": "public const string _databaseId = \"manual-log\";\r\npublic const string _containerId = \"aws-entries\";\r\npublic const string _id = \"8\";\r\npublic const string _partitionKey = \"EC2\";"
    },
    {
      "cell_type": "markdown",
      "metadata": {
        "nteract": {
          "transient": {
            "deleting": false
          }
        }
      },
      "source": "## Initializing the Cosmos client and container\r\n\r\n\r\n"
    },
    {
      "cell_type": "code",
      "execution_count": 12,
      "metadata": {
        "collapsed": true,
        "execution": {
          "iopub.execute_input": "2021-01-11T02:04:57.379Z",
          "iopub.status.busy": "2021-01-11T09:04:29.869Z",
          "iopub.status.idle": "2021-01-11T09:04:29.927Z",
          "shell.execute_reply": "2021-01-11T09:04:29.933Z"
        },
        "jupyter": {
          "outputs_hidden": false,
          "source_hidden": false
        },
        "nteract": {
          "transient": {
            "deleting": false
          }
        },
        "trusted": false
      },
      "outputs": [
        {
          "data": {},
          "execution_count": 12,
          "metadata": {},
          "output_type": "execute_result"
        }
      ],
      "source": "using System;\r\nusing Microsoft.Azure.Cosmos;\r\nusing System.Collections;\r\nusing System.Net;\r\nusing Newtonsoft.Json;\r\n\r\n// Initialize a new instance of CosmosClient using the built-in account endpoint and key parameters\r\nCosmosClient cosmosClient = new CosmosClient(Cosmos.Endpoint, Cosmos.Key);\r\n\r\nDatabase dataHost = cosmosClient.GetDatabase(_databaseId);\r\nContainer itemHost = dataHost.GetContainer(_containerId);"
    },
    {
      "cell_type": "markdown",
      "metadata": {
        "nteract": {
          "transient": {
            "deleting": false
          }
        }
      },
      "source": "## Defining the POCO for item\r\n\r\n"
    },
    {
      "cell_type": "code",
      "execution_count": 14,
      "metadata": {
        "collapsed": true,
        "execution": {
          "iopub.status.busy": "2021-01-11T09:04:36.109Z",
          "iopub.status.idle": "2021-01-11T09:04:36.164Z",
          "shell.execute_reply": "2021-01-11T09:04:36.171Z"
        },
        "jupyter": {
          "outputs_hidden": false,
          "source_hidden": false
        },
        "nteract": {
          "transient": {
            "deleting": false
          }
        },
        "trusted": false
      },
      "outputs": [
        {
          "data": {},
          "execution_count": 14,
          "metadata": {},
          "output_type": "execute_result"
        }
      ],
      "source": "public class LogItem {\r\n\r\n    [JsonProperty(PropertyName=\"id\")]\r\n    public string Id {get;set;}\r\n\r\n    [JsonProperty(PropertyName=\"record-name\")]\r\n    public string RecordName {get;set;}\r\n\r\n    [JsonProperty(PropertyName=\"tag\")]\r\n    public string Tag {get;set;}\r\n\r\n    [JsonProperty(PropertyName=\"start-timestamp\")]\r\n    public DateTime? StartedAt {get;set;}\r\n\r\n    [JsonProperty(PropertyName=\"end-timestamp\")]\r\n    public DateTime? EndedAt {get;set;}\r\n\r\n    [JsonProperty(PropertyName=\"comment\")]\r\n    public string Comment {get;set;}\r\n\r\n    [JsonProperty(PropertyName=\"resource-url\")]\r\n    public string ResourceUrl {get;set;}\r\n\r\n    [JsonProperty(PropertyName=\"service\")]\r\n    public string ServiceName {get;set;}\r\n\r\n    public override string ToString() {\r\n        return $\"Log entry is with id- {Id}, name \\\"{RecordName}\\\", and started at {StartedAt.ToString()}\";\r\n    }\r\n}"
    },
    {
      "cell_type": "markdown",
      "metadata": {
        "nteract": {
          "transient": {
            "deleting": false
          }
        }
      },
      "source": "## Put data into the structure\r\n\r\nThis code block should be changed every time you want a new record to be inserted.\r\n\r\n"
    },
    {
      "cell_type": "code",
      "execution_count": 15,
      "metadata": {
        "collapsed": true,
        "execution": {
          "iopub.status.busy": "2021-01-11T09:05:17.790Z",
          "iopub.status.idle": "2021-01-11T09:05:17.854Z",
          "shell.execute_reply": "2021-01-11T09:05:17.859Z"
        },
        "jupyter": {
          "outputs_hidden": false,
          "source_hidden": false
        },
        "nteract": {
          "transient": {
            "deleting": false
          }
        },
        "trusted": false
      },
      "outputs": [
        {
          "data": {},
          "execution_count": 15,
          "metadata": {},
          "output_type": "execute_result"
        }
      ],
      "source": "LogItem newEntry = new LogItem(){\r\n    Id = _id,\r\n    RecordName = \"Tutorial - Hosting a wordpress blog\",\r\n    Tag = \"Aws-Certification\",\r\n    StartedAt = DateTime.UtcNow,\r\n    EndedAt = null,\r\n    Comment = \"\",\r\n    ResourceUrl = \"https://docs.aws.amazon.com/AWSEC2/latest/UserGuide/hosting-wordpress.html\",\r\n    ServiceName = _partitionKey\r\n};"
    },
    {
      "cell_type": "markdown",
      "metadata": {
        "nteract": {
          "transient": {
            "deleting": false
          }
        }
      },
      "source": "## Add the item to container\r\n\r\n**CAUTION** skip this code block if you want to only update.\r\n"
    },
    {
      "cell_type": "code",
      "execution_count": 9,
      "metadata": {
        "collapsed": true,
        "execution": {
          "iopub.execute_input": "2021-01-11T09:05:24.495Z",
          "iopub.status.busy": "2021-01-11T09:05:24.488Z",
          "iopub.status.idle": "2021-01-11T09:05:24.511Z",
          "shell.execute_reply": "2021-01-11T09:05:24.517Z"
        },
        "jupyter": {
          "outputs_hidden": false,
          "source_hidden": false
        },
        "nteract": {
          "transient": {
            "deleting": false
          }
        },
        "trusted": false
      },
      "outputs": [
        {
          "data": {},
          "execution_count": 16,
          "metadata": {},
          "output_type": "execute_result"
        },
        {
          "data": {
            "text/markdown": "Charges of query - **8**",
            "text/plain": "<IPython.core.display.Markdown object>"
          },
          "metadata": {},
          "output_type": "display_data"
        },
        {
          "data": {
            "text/markdown": "` Log entry is with id- 8, name \"Tutorial - Hosting a wordpress blog\", and started at 1/11/2021 9:05:27 AM `",
            "text/plain": "<IPython.core.display.Markdown object>"
          },
          "metadata": {},
          "output_type": "display_data"
        }
      ],
      "source": "ItemResponse<LogItem> response = await itemHost.CreateItemAsync<LogItem>(newEntry);\r\n\r\nDisplay.AsMarkdown($\"Charges of query - **{response.RequestCharge}**\");\r\nDisplay.AsMarkdown($\"` {response.Resource.ToString()} `\");"
    },
    {
      "cell_type": "markdown",
      "metadata": {
        "nteract": {
          "transient": {
            "deleting": false
          }
        }
      },
      "source": "## Querying back the item\r\n\r\n"
    },
    {
      "cell_type": "code",
      "execution_count": 5,
      "metadata": {
        "collapsed": true,
        "execution": {
          "iopub.execute_input": "2021-01-11T09:01:59.436Z",
          "iopub.status.busy": "2021-01-11T09:01:59.294Z",
          "iopub.status.idle": "2021-01-11T09:01:59.464Z",
          "shell.execute_reply": "2021-01-11T09:01:59.471Z"
        },
        "jupyter": {
          "outputs_hidden": false,
          "source_hidden": false
        },
        "nteract": {
          "transient": {
            "deleting": false
          }
        },
        "trusted": false
      },
      "outputs": [
        {
          "data": {},
          "execution_count": 8,
          "metadata": {},
          "output_type": "execute_result"
        },
        {
          "data": {
            "text/markdown": "Retreived document: `Log entry is with id- 7, name \"Tutorial - Install LAMP server (Linux 2)\", and started at 1/11/2021 8:48:21 AM`",
            "text/plain": "<IPython.core.display.Markdown object>"
          },
          "metadata": {},
          "output_type": "display_data"
        },
        {
          "data": {
            "text/markdown": "#### Diagnostics for ReadItemAsync:",
            "text/plain": "<IPython.core.display.Markdown object>"
          },
          "metadata": {},
          "output_type": "display_data"
        },
        {
          "data": {
            "text/markdown": "` {\"DiagnosticVersion\":\"2\",\"Summary\":{\"StartUtc\":\"2021-01-11T09:02:09.0130632Z\",\"TotalElapsedTimeInMs\":34.8501,\"UserAgent\":\"cosmos-netstandard-sdk/3.12.0|3.11.4|10|X64|Linux 4.19.90-microsoft-standa|.NET Core 3.1.3|\",\"TotalRequestCount\":1,\"FailedRequestCount\":0},\"Context\":[{\"Id\":\"Microsoft.Azure.Cosmos.Handlers.DiagnosticsHandler\",\"HandlerElapsedTimeInMs\":34.4008},{\"Id\":\"SystemInfo\",\"CpuHistory\":\"(2021-01-11T09:01:32.2975906Z 0.000), (2021-01-11T09:01:42.2938368Z 0.000), (2021-01-11T09:01:42.3074131Z 0.000), (2021-01-11T09:01:52.2959687Z 0.000), (2021-01-11T09:01:52.2960950Z 100.000), (2021-01-11T09:02:02.3029392Z 0.000)\"},{\"Id\":\"Microsoft.Azure.Cosmos.Handlers.RetryHandler\",\"HandlerElapsedTimeInMs\":34.3967},{\"Id\":\"Microsoft.Azure.Cosmos.Handlers.RouterHandler\",\"HandlerElapsedTimeInMs\":34.387},{\"Id\":\"Microsoft.Azure.Cosmos.Handlers.TransportHandler\",\"HandlerElapsedTimeInMs\":0.9632},{\"Id\":\"AggregatedClientSideRequestStatistics\",\"ContactedReplicas\":[],\"RegionsContacted\":[\"https://project-timers-eastus.documents.azure.com:443/\"],\"FailedReplicas\":[]},{\"Id\":\"Microsoft.Azure.Documents.ServerStoreModel\",\"ElapsedTimeInMs\":34.2893},{\"Id\":\"StoreResponseStatistics\",\"StartTimeUtc\":\"2021-01-11T09:02:09.0133477Z\",\"ResponseTimeUtc\":\"2021-01-11T09:02:09.0475496Z\",\"ElapsedTimeInMs\":34.2019,\"ResourceType\":\"Document\",\"OperationType\":\"Read\",\"LocationEndpoint\":\"https://project-timers-eastus.documents.azure.com:443/\",\"ActivityId\":\"d2cafe8a-1bf1-4677-852e-816b8ad1f872\",\"StoreResult\":\"StorePhysicalAddress: rntbd://cdb-ms-prod-eastus1-fd49.documents.azure.com:14001/apps/8acd1527-a022-4c2a-b2d9-2eea6c3b221d/services/f085975e-f496-48a5-ae43-5ce81ca5fab8/partitions/05064715-9b8e-4a86-8aab-236ca97ea635/replicas/132547803045701811s/, LSN: 14, GlobalCommittedLsn: 13, PartitionKeyRangeId: 0, IsValid: True, StatusCode: 200, SubStatusCode: 0, RequestCharge: 1, ItemLSN: 14, SessionToken: -1#14, UsingLocalLSN: True, TransportException: null\"}]} `",
            "text/plain": "<IPython.core.display.Markdown object>"
          },
          "metadata": {},
          "output_type": "display_data"
        }
      ],
      "source": "ItemResponse<LogItem> queryResponse = await itemHost.ReadItemAsync<LogItem>(\r\n\r\n    partitionKey: new PartitionKey(_partitionKey),\r\n    id: _id\r\n);\r\n\r\nDisplay.AsMarkdown($\"Retreived document: `{queryResponse.Resource}`\");\r\nDisplay.AsMarkdown($\"#### Diagnostics for ReadItemAsync:\");\r\nDisplay.AsMarkdown($\"` {queryResponse.Diagnostics.ToString()} `\");\r\n\r\n"
    },
    {
      "cell_type": "markdown",
      "metadata": {
        "nteract": {
          "transient": {
            "deleting": false
          }
        }
      },
      "source": "## Updating the EndDateTimeStamp for the record\r\n"
    },
    {
      "cell_type": "code",
      "execution_count": 7,
      "metadata": {
        "collapsed": true,
        "execution": {
          "iopub.execute_input": "2021-01-11T09:02:05.689Z",
          "iopub.status.busy": "2021-01-11T09:02:05.683Z",
          "iopub.status.idle": "2021-01-11T09:02:05.701Z",
          "shell.execute_reply": "2021-01-11T09:02:05.706Z"
        },
        "jupyter": {
          "outputs_hidden": false,
          "source_hidden": false
        },
        "nteract": {
          "transient": {
            "deleting": false
          }
        },
        "trusted": false
      },
      "outputs": [
        {
          "data": {},
          "execution_count": 10,
          "metadata": {},
          "output_type": "execute_result"
        },
        {
          "data": {
            "text/markdown": "Charges of query: **10.67**",
            "text/plain": "<IPython.core.display.Markdown object>"
          },
          "metadata": {},
          "output_type": "display_data"
        }
      ],
      "source": "LogItem endItem = (LogItem) queryResponse;\r\n\r\nendItem.EndedAt = DateTime.UtcNow;\r\n\r\nItemResponse<LogItem> upsertResponse = await itemHost.UpsertItemAsync(partitionKey: new PartitionKey(_partitionKey), item: endItem);\r\nDisplay.AsMarkdown($\"Charges of query: **{upsertResponse.RequestCharge}**\");"
    }
  ],
  "metadata": {
    "kernelspec": {
      "displayName": "CSharp",
      "language": "csharp",
      "name": "csharp"
    },
    "language_info": {
      "codemirror_mode": "text/x-csharp",
      "file_extension": "ipynb",
      "mimetype": "application/json",
      "name": "csharp",
      "version": "7.3"
    },
    "nteract": {
      "version": "dataExplorer 1.0"
    }
  },
  "nbformat": 4,
  "nbformat_minor": 4
}