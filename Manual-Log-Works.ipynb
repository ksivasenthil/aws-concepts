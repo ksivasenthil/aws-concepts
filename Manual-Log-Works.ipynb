{
  "cells": [
    {
      "cell_type": "markdown",
      "metadata": {
        "nteract": {
          "transient": {
            "deleting": false
          }
        }
      },
      "source": "# Workbook to maintain work ticks\r\n\r\nThis notebook uses C# interactive shell and SQL API of CosmosDB. It is used to maintain the records of different project execution timer.\r\n\r\n\r\n## Declaring constants for the notebook\r\n"
    },
    {
      "cell_type": "code",
      "execution_count": 7,
      "metadata": {
        "collapsed": true,
        "execution": {
          "iopub.status.busy": "2021-01-11T06:22:32.281Z",
          "iopub.status.idle": "2021-01-11T06:22:32.345Z",
          "shell.execute_reply": "2021-01-11T06:22:32.350Z"
        },
        "jupyter": {
          "outputs_hidden": false,
          "source_hidden": false
        },
        "nteract": {
          "transient": {
            "deleting": false
          }
        },
        "trusted": false
      },
      "outputs": [
        {
          "data": {},
          "execution_count": 7,
          "metadata": {},
          "output_type": "execute_result"
        }
      ],
      "source": "public const string databaseId = \"manual-log\";\r\npublic const string containerId = \"aws-entries\";"
    },
    {
      "cell_type": "markdown",
      "metadata": {
        "nteract": {
          "transient": {
            "deleting": false
          }
        }
      },
      "source": "## Initializing the Cosmos client and container\r\n\r\n\r\n"
    },
    {
      "cell_type": "code",
      "execution_count": 3,
      "metadata": {
        "collapsed": true,
        "execution": {
          "iopub.execute_input": "2021-01-11T02:04:57.379Z",
          "iopub.status.busy": "2021-01-11T06:19:47.195Z",
          "iopub.status.idle": "2021-01-11T06:19:47.254Z",
          "shell.execute_reply": "2021-01-11T06:19:47.262Z"
        },
        "jupyter": {
          "outputs_hidden": false,
          "source_hidden": false
        },
        "nteract": {
          "transient": {
            "deleting": false
          }
        },
        "trusted": false
      },
      "outputs": [
        {
          "data": {},
          "execution_count": 3,
          "metadata": {},
          "output_type": "execute_result"
        }
      ],
      "source": "using System;\r\nusing Microsoft.Azure.Cosmos;\r\nusing System.Collections;\r\nusing System.Net;\r\nusing Newtonsoft.Json;\r\n\r\n// Initialize a new instance of CosmosClient using the built-in account endpoint and key parameters\r\nCosmosClient cosmosClient = new CosmosClient(Cosmos.Endpoint, Cosmos.Key);\r\n\r\nDatabase dataHost = cosmosClient.GetDatabase(databaseId);\r\nContainer itemHost = dataHost.GetContainer(containerId);"
    },
    {
      "cell_type": "markdown",
      "metadata": {
        "nteract": {
          "transient": {
            "deleting": false
          }
        }
      },
      "source": "## Defining the POCO for item\r\n\r\n"
    },
    {
      "cell_type": "code",
      "execution_count": 4,
      "metadata": {
        "collapsed": true,
        "execution": {
          "iopub.status.busy": "2021-01-11T06:19:49.722Z",
          "iopub.status.idle": "2021-01-11T06:19:49.782Z",
          "shell.execute_reply": "2021-01-11T06:19:49.789Z"
        },
        "jupyter": {
          "outputs_hidden": false,
          "source_hidden": false
        },
        "nteract": {
          "transient": {
            "deleting": false
          }
        },
        "trusted": false
      },
      "outputs": [
        {
          "data": {},
          "execution_count": 4,
          "metadata": {},
          "output_type": "execute_result"
        }
      ],
      "source": "public class LogItem {\r\n\r\n    [JsonProperty(PropertyName=\"id\")]\r\n    public string Id {get;set;}\r\n\r\n    [JsonProperty(PropertyName=\"record-name\")]\r\n    public string RecordName {get;set;}\r\n\r\n    [JsonProperty(PropertyName=\"tag\")]\r\n    public string Tag {get;set;}\r\n\r\n    [JsonProperty(PropertyName=\"start-timestamp\")]\r\n    public DateTime? StartedAt {get;set;}\r\n\r\n    [JsonProperty(PropertyName=\"end-timestamp\")]\r\n    public DateTime? EndedAt {get;set;}\r\n\r\n    [JsonProperty(PropertyName=\"comment\")]\r\n    public string Comment {get;set;}\r\n\r\n    [JsonProperty(PropertyName=\"resource-url\")]\r\n    public string ResourceUrl {get;set;}\r\n\r\n    [JsonProperty(PropertyName=\"service\")]\r\n    public string ServiceName {get;set;}\r\n\r\n    public override string ToString() {\r\n        return $\"Log entry is with id- {Id}, name \\\"{RecordName}\\\", and started at {StartedAt.ToString()}\";\r\n    }\r\n}"
    },
    {
      "cell_type": "markdown",
      "metadata": {
        "nteract": {
          "transient": {
            "deleting": false
          }
        }
      },
      "source": "## Put data into the structure\r\n\r\nThis code block should be changed every time you want a new record to be inserted.\r\n\r\n"
    },
    {
      "cell_type": "code",
      "execution_count": 10,
      "metadata": {
        "collapsed": true,
        "execution": {
          "iopub.status.busy": "2021-01-11T05:37:36.305Z",
          "iopub.status.idle": "2021-01-11T05:37:36.315Z",
          "shell.execute_reply": "2021-01-11T05:37:36.322Z"
        },
        "jupyter": {
          "outputs_hidden": false,
          "source_hidden": false
        },
        "nteract": {
          "transient": {
            "deleting": false
          }
        },
        "trusted": false
      },
      "outputs": [
        {
          "data": {},
          "execution_count": 10,
          "metadata": {},
          "output_type": "execute_result"
        }
      ],
      "source": "LogItem newEntry = new LogItem(){\r\n    Id = \"5\",\r\n    RecordName = \"EC2 - Getting started tutorial\",\r\n    Tag = \"Aws-Certification\",\r\n    StartedAt = DateTime.UtcNow,\r\n    EndedAt = null,\r\n    Comment = \"\",\r\n    ResourceUrl = \"https://docs.aws.amazon.com/AWSEC2/latest/UserGuide/EC2_GetStarted.html\",\r\n    ServiceName = \"EC2\"\r\n};"
    },
    {
      "cell_type": "markdown",
      "metadata": {
        "nteract": {
          "transient": {
            "deleting": false
          }
        }
      },
      "source": "## Add the item to container\r\n\r\n**CAUTION** skip this code block if you want to only update.\r\n"
    },
    {
      "cell_type": "code",
      "execution_count": 2,
      "metadata": {
        "collapsed": true,
        "execution": {
          "iopub.execute_input": "2021-01-11T05:37:36.641Z",
          "iopub.status.busy": "2021-01-11T05:37:36.636Z",
          "iopub.status.idle": "2021-01-11T05:37:36.719Z",
          "shell.execute_reply": "2021-01-11T05:37:36.725Z"
        },
        "jupyter": {
          "outputs_hidden": false,
          "source_hidden": false
        },
        "nteract": {
          "transient": {
            "deleting": false
          }
        },
        "trusted": false
      },
      "outputs": [
        {
          "data": {},
          "execution_count": 11,
          "metadata": {},
          "output_type": "execute_result"
        },
        {
          "data": {
            "text/markdown": "Charges of query - **8**",
            "text/plain": "<IPython.core.display.Markdown object>"
          },
          "metadata": {},
          "output_type": "display_data"
        },
        {
          "data": {
            "text/markdown": "` Log entry is with id- 5, name \"EC2 - Getting started tutorial\", and started at 1/11/2021 5:37:46 AM `",
            "text/plain": "<IPython.core.display.Markdown object>"
          },
          "metadata": {},
          "output_type": "display_data"
        }
      ],
      "source": "ItemResponse<LogItem> response = await itemHost.CreateItemAsync<LogItem>(newEntry);\r\n\r\nDisplay.AsMarkdown($\"Charges of query - **{response.RequestCharge}**\");\r\nDisplay.AsMarkdown($\"` {response.Resource.ToString()} `\");"
    },
    {
      "cell_type": "markdown",
      "metadata": {
        "nteract": {
          "transient": {
            "deleting": false
          }
        }
      },
      "source": "## Querying back the item\r\n\r\n"
    },
    {
      "cell_type": "code",
      "execution_count": 3,
      "metadata": {
        "collapsed": true,
        "execution": {
          "iopub.execute_input": "2021-01-11T06:19:56.529Z",
          "iopub.status.busy": "2021-01-11T06:19:56.523Z",
          "iopub.status.idle": "2021-01-11T06:19:56.591Z",
          "shell.execute_reply": "2021-01-11T06:19:56.598Z"
        },
        "jupyter": {
          "outputs_hidden": false,
          "source_hidden": false
        },
        "nteract": {
          "transient": {
            "deleting": false
          }
        },
        "trusted": false
      },
      "outputs": [
        {
          "data": {},
          "execution_count": 5,
          "metadata": {},
          "output_type": "execute_result"
        },
        {
          "data": {
            "text/markdown": "Retreived document: `Log entry is with id- 5, name \"EC2 - Getting started tutorial\", and started at 1/11/2021 5:37:46 AM`",
            "text/plain": "<IPython.core.display.Markdown object>"
          },
          "metadata": {},
          "output_type": "display_data"
        },
        {
          "data": {
            "text/markdown": "#### Diagnostics for ReadItemAsync:",
            "text/plain": "<IPython.core.display.Markdown object>"
          },
          "metadata": {},
          "output_type": "display_data"
        },
        {
          "data": {
            "text/markdown": "` {\"DiagnosticVersion\":\"2\",\"Summary\":{\"StartUtc\":\"2021-01-11T06:20:06.0845733Z\",\"TotalElapsedTimeInMs\":150.2675,\"UserAgent\":\"cosmos-netstandard-sdk/3.12.0|3.11.4|10|X64|Linux 4.19.90-microsoft-standa|.NET Core 3.1.3|\",\"TotalRequestCount\":1,\"FailedRequestCount\":0},\"Context\":[{\"Id\":\"Microsoft.Azure.Cosmos.Handlers.DiagnosticsHandler\",\"HandlerElapsedTimeInMs\":146.2215},{\"Id\":\"SystemInfo\",\"CpuHistory\":\"(2021-01-11T06:19:12.2952831Z 0.000), (2021-01-11T06:19:12.2960783Z 100.000), (2021-01-11T06:19:22.3021369Z 1.587), (2021-01-11T06:19:42.3061923Z 0.000), (2021-01-11T06:19:52.2991621Z 0.000), (2021-01-11T06:20:02.2974400Z 0.000)\"},{\"Id\":\"Microsoft.Azure.Cosmos.Handlers.RetryHandler\",\"HandlerElapsedTimeInMs\":146.2179},{\"Id\":\"Microsoft.Azure.Cosmos.Handlers.RouterHandler\",\"HandlerElapsedTimeInMs\":146.21},{\"Id\":\"Microsoft.Azure.Cosmos.Handlers.TransportHandler\",\"HandlerElapsedTimeInMs\":0.1412},{\"Id\":\"AggregatedClientSideRequestStatistics\",\"ContactedReplicas\":[],\"RegionsContacted\":[\"https://project-timers-eastus.documents.azure.com:443/\"],\"FailedReplicas\":[]},{\"Id\":\"Microsoft.Azure.Documents.ServerStoreModel\",\"ElapsedTimeInMs\":146.1352},{\"Id\":\"AddressResolutionStatistics\",\"StartTimeUtc\":\"2021-01-11T06:20:06.1796911Z\",\"EndTimeUtc\":\"2021-01-11T06:20:06.1882037Z\",\"ElapsedTimeInMs\":8.5126,\"TargetEndpoint\":\"https://project-timers-eastus.documents.azure.com//addresses/?$resolveFor=dbs%2fIKltAA%3d%3d%2fcolls%2fIKltAPKrgKU%3d%2fdocs&$filter=protocol eq rntbd&$partitionKeyRangeIds=0\"},{\"Id\":\"StoreResponseStatistics\",\"StartTimeUtc\":\"2021-01-11T06:20:06.0848898Z\",\"ResponseTimeUtc\":\"2021-01-11T06:20:06.2309397Z\",\"ElapsedTimeInMs\":146.0499,\"ResourceType\":\"Document\",\"OperationType\":\"Read\",\"LocationEndpoint\":\"https://project-timers-eastus.documents.azure.com:443/\",\"ActivityId\":\"ef4d8748-8b07-4ef4-bcf6-86f62133fbc3\",\"StoreResult\":\"StorePhysicalAddress: rntbd://cdb-ms-prod-eastus1-fd49.documents.azure.com:14145/apps/8acd1527-a022-4c2a-b2d9-2eea6c3b221d/services/f085975e-f496-48a5-ae43-5ce81ca5fab8/partitions/05064715-9b8e-4a86-8aab-236ca97ea635/replicas/132547803045701812s/, LSN: 8, GlobalCommittedLsn: 7, PartitionKeyRangeId: 0, IsValid: True, StatusCode: 200, SubStatusCode: 0, RequestCharge: 1, ItemLSN: 8, SessionToken: -1#8, UsingLocalLSN: True, TransportException: null\"}]} `",
            "text/plain": "<IPython.core.display.Markdown object>"
          },
          "metadata": {},
          "output_type": "display_data"
        }
      ],
      "source": "ItemResponse<LogItem> queryResponse = await itemHost.ReadItemAsync<LogItem>(\r\n\r\n    partitionKey: new PartitionKey(\"EC2\"),\r\n    id: \"5\"\r\n);\r\n\r\nDisplay.AsMarkdown($\"Retreived document: `{queryResponse.Resource}`\");\r\nDisplay.AsMarkdown($\"#### Diagnostics for ReadItemAsync:\");\r\nDisplay.AsMarkdown($\"` {queryResponse.Diagnostics.ToString()} `\");\r\n\r\n"
    },
    {
      "cell_type": "markdown",
      "metadata": {
        "nteract": {
          "transient": {
            "deleting": false
          }
        }
      },
      "source": "## Updating the EndDateTimeStamp for the record\r\n"
    },
    {
      "cell_type": "code",
      "execution_count": 4,
      "metadata": {
        "collapsed": true,
        "execution": {
          "iopub.execute_input": "2021-01-11T06:20:03.868Z",
          "iopub.status.busy": "2021-01-11T06:20:03.863Z",
          "iopub.status.idle": "2021-01-11T06:20:03.884Z",
          "shell.execute_reply": "2021-01-11T06:20:03.878Z"
        },
        "jupyter": {
          "outputs_hidden": false,
          "source_hidden": false
        },
        "nteract": {
          "transient": {
            "deleting": false
          }
        },
        "trusted": false
      },
      "outputs": [
        {
          "data": {},
          "execution_count": 6,
          "metadata": {},
          "output_type": "execute_result"
        },
        {
          "data": {
            "text/markdown": "Charges of query: **10.86**",
            "text/plain": "<IPython.core.display.Markdown object>"
          },
          "metadata": {},
          "output_type": "display_data"
        }
      ],
      "source": "LogItem endItem = (LogItem) queryResponse;\r\n\r\nendItem.EndedAt = DateTime.UtcNow;\r\n\r\nItemResponse<LogItem> upsertResponse = await itemHost.UpsertItemAsync(partitionKey: new PartitionKey(\"EC2\"), item: endItem);\r\nDisplay.AsMarkdown($\"Charges of query: **{upsertResponse.RequestCharge}**\");"
    }
  ],
  "metadata": {
    "kernelspec": {
      "displayName": "CSharp",
      "language": "csharp",
      "name": "csharp"
    },
    "language_info": {
      "codemirror_mode": "text/x-csharp",
      "file_extension": "ipynb",
      "mimetype": "application/json",
      "name": "csharp",
      "version": "7.3"
    },
    "nteract": {
      "version": "dataExplorer 1.0"
    }
  },
  "nbformat": 4,
  "nbformat_minor": 4
}