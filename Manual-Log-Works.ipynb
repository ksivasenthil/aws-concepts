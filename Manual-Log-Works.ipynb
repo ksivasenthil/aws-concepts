{
  "cells": [
    {
      "cell_type": "markdown",
      "metadata": {
        "nteract": {
          "transient": {
            "deleting": false
          }
        }
      },
      "source": "# Declaring constants for the notebook\r\n"
    },
    {
      "cell_type": "code",
      "execution_count": 7,
      "metadata": {
        "collapsed": true,
        "execution": {
          "iopub.status.busy": "2021-01-11T05:37:36.177Z",
          "iopub.status.idle": "2021-01-11T05:37:36.238Z",
          "shell.execute_reply": "2021-01-11T05:37:36.243Z"
        },
        "jupyter": {
          "outputs_hidden": false,
          "source_hidden": false
        },
        "nteract": {
          "transient": {
            "deleting": false
          }
        },
        "trusted": false
      },
      "outputs": [
        {
          "data": {},
          "execution_count": 7,
          "metadata": {},
          "output_type": "execute_result"
        }
      ],
      "source": "public const string databaseId = \"manual-log\";\r\npublic const string containerId = \"aws-entries\";"
    },
    {
      "cell_type": "markdown",
      "metadata": {
        "nteract": {
          "transient": {
            "deleting": false
          }
        }
      },
      "source": "# Initializing the Cosmos client and container\r\n\r\n"
    },
    {
      "cell_type": "code",
      "execution_count": 8,
      "metadata": {
        "collapsed": true,
        "execution": {
          "iopub.execute_input": "2021-01-11T02:04:57.379Z",
          "iopub.status.busy": "2021-01-11T05:37:36.252Z",
          "iopub.status.idle": "2021-01-11T05:37:36.266Z",
          "shell.execute_reply": "2021-01-11T05:37:36.271Z"
        },
        "jupyter": {
          "outputs_hidden": false,
          "source_hidden": false
        },
        "nteract": {
          "transient": {
            "deleting": false
          }
        },
        "trusted": false
      },
      "outputs": [
        {
          "data": {},
          "execution_count": 8,
          "metadata": {},
          "output_type": "execute_result"
        }
      ],
      "source": "using System;\r\nusing Microsoft.Azure.Cosmos;\r\nusing System.Collections;\r\nusing System.Net;\r\nusing Newtonsoft.Json;\r\n\r\n// Initialize a new instance of CosmosClient using the built-in account endpoint and key parameters\r\nCosmosClient cosmosClient = new CosmosClient(Cosmos.Endpoint, Cosmos.Key);\r\n\r\nDatabase dataHost = cosmosClient.GetDatabase(databaseId);\r\nContainer itemHost = dataHost.GetContainer(containerId);"
    },
    {
      "cell_type": "markdown",
      "metadata": {
        "nteract": {
          "transient": {
            "deleting": false
          }
        }
      },
      "source": "# Defining the POCO for item\r\n"
    },
    {
      "cell_type": "code",
      "execution_count": 9,
      "metadata": {
        "collapsed": true,
        "execution": {
          "iopub.status.busy": "2021-01-11T05:37:36.279Z",
          "iopub.status.idle": "2021-01-11T05:37:36.291Z",
          "shell.execute_reply": "2021-01-11T05:37:36.296Z"
        },
        "jupyter": {
          "outputs_hidden": false,
          "source_hidden": false
        },
        "nteract": {
          "transient": {
            "deleting": false
          }
        },
        "trusted": false
      },
      "outputs": [
        {
          "data": {},
          "execution_count": 9,
          "metadata": {},
          "output_type": "execute_result"
        }
      ],
      "source": "public class LogItem {\r\n\r\n    [JsonProperty(PropertyName=\"id\")]\r\n    public string Id {get;set;}\r\n\r\n    [JsonProperty(PropertyName=\"record-name\")]\r\n    public string RecordName {get;set;}\r\n\r\n    [JsonProperty(PropertyName=\"tag\")]\r\n    public string Tag {get;set;}\r\n\r\n    [JsonProperty(PropertyName=\"start-timestamp\")]\r\n    public DateTime? StartedAt {get;set;}\r\n\r\n    [JsonProperty(PropertyName=\"end-timestamp\")]\r\n    public DateTime? EndedAt {get;set;}\r\n\r\n    [JsonProperty(PropertyName=\"comment\")]\r\n    public string Comment {get;set;}\r\n\r\n    [JsonProperty(PropertyName=\"resource-url\")]\r\n    public string ResourceUrl {get;set;}\r\n\r\n    [JsonProperty(PropertyName=\"service\")]\r\n    public string ServiceName {get;set;}\r\n\r\n    public override string ToString() {\r\n        return $\"Log entry is with id- {Id}, name \\\"{RecordName}\\\", and started at {StartedAt.ToString()}\";\r\n    }\r\n}"
    },
    {
      "cell_type": "markdown",
      "metadata": {
        "nteract": {
          "transient": {
            "deleting": false
          }
        }
      },
      "source": "# Put data into the structure\r\n"
    },
    {
      "cell_type": "code",
      "execution_count": 10,
      "metadata": {
        "collapsed": true,
        "execution": {
          "iopub.status.busy": "2021-01-11T05:37:36.305Z",
          "iopub.status.idle": "2021-01-11T05:37:36.315Z",
          "shell.execute_reply": "2021-01-11T05:37:36.322Z"
        },
        "jupyter": {
          "outputs_hidden": false,
          "source_hidden": false
        },
        "nteract": {
          "transient": {
            "deleting": false
          }
        },
        "trusted": false
      },
      "outputs": [
        {
          "data": {},
          "execution_count": 10,
          "metadata": {},
          "output_type": "execute_result"
        }
      ],
      "source": "LogItem newEntry = new LogItem(){\r\n    Id = \"5\",\r\n    RecordName = \"EC2 - Getting started tutorial\",\r\n    Tag = \"Aws-Certification\",\r\n    StartedAt = DateTime.UtcNow,\r\n    EndedAt = null,\r\n    Comment = \"\",\r\n    ResourceUrl = \"https://docs.aws.amazon.com/AWSEC2/latest/UserGuide/EC2_GetStarted.html\",\r\n    ServiceName = \"EC2\"\r\n};"
    },
    {
      "cell_type": "markdown",
      "metadata": {
        "nteract": {
          "transient": {
            "deleting": false
          }
        }
      },
      "source": "# Add the item to container\r\n"
    },
    {
      "cell_type": "code",
      "execution_count": 2,
      "metadata": {
        "collapsed": true,
        "execution": {
          "iopub.execute_input": "2021-01-11T05:37:36.641Z",
          "iopub.status.busy": "2021-01-11T05:37:36.636Z",
          "iopub.status.idle": "2021-01-11T05:37:36.719Z",
          "shell.execute_reply": "2021-01-11T05:37:36.725Z"
        },
        "jupyter": {
          "outputs_hidden": false,
          "source_hidden": false
        },
        "nteract": {
          "transient": {
            "deleting": false
          }
        },
        "trusted": false
      },
      "outputs": [
        {
          "data": {},
          "execution_count": 11,
          "metadata": {},
          "output_type": "execute_result"
        },
        {
          "data": {
            "text/markdown": "Charges of query - **8**",
            "text/plain": "<IPython.core.display.Markdown object>"
          },
          "metadata": {},
          "output_type": "display_data"
        },
        {
          "data": {
            "text/markdown": "` Log entry is with id- 5, name \"EC2 - Getting started tutorial\", and started at 1/11/2021 5:37:46 AM `",
            "text/plain": "<IPython.core.display.Markdown object>"
          },
          "metadata": {},
          "output_type": "display_data"
        }
      ],
      "source": "ItemResponse<LogItem> response = await itemHost.CreateItemAsync<LogItem>(newEntry);\r\n\r\nDisplay.AsMarkdown($\"Charges of query - **{response.RequestCharge}**\");\r\nDisplay.AsMarkdown($\"` {response.Resource.ToString()} `\");"
    },
    {
      "cell_type": "markdown",
      "metadata": {
        "nteract": {
          "transient": {
            "deleting": false
          }
        }
      },
      "source": "# Querying back the item\r\n"
    },
    {
      "cell_type": "code",
      "execution_count": 9,
      "metadata": {
        "collapsed": true,
        "execution": {
          "iopub.execute_input": "2021-01-11T05:38:41.381Z",
          "iopub.status.busy": "2021-01-11T05:38:41.376Z",
          "iopub.status.idle": "2021-01-11T05:38:41.393Z",
          "shell.execute_reply": "2021-01-11T05:38:41.399Z"
        },
        "jupyter": {
          "outputs_hidden": false,
          "source_hidden": false
        },
        "nteract": {
          "transient": {
            "deleting": false
          }
        },
        "trusted": false
      },
      "outputs": [
        {
          "data": {
            "text/markdown": "Retreived document: `Log entry is with id- 5, name \"EC2 - Getting started tutorial\", and started at 1/11/2021 5:37:46 AM`",
            "text/plain": "<IPython.core.display.Markdown object>"
          },
          "metadata": {},
          "output_type": "display_data"
        },
        {
          "data": {},
          "execution_count": 14,
          "metadata": {},
          "output_type": "execute_result"
        },
        {
          "data": {
            "text/markdown": "#### Diagnostics for ReadItemAsync:",
            "text/plain": "<IPython.core.display.Markdown object>"
          },
          "metadata": {},
          "output_type": "display_data"
        },
        {
          "data": {
            "text/markdown": "` {\"DiagnosticVersion\":\"2\",\"Summary\":{\"StartUtc\":\"2021-01-11T05:38:50.8449863Z\",\"TotalElapsedTimeInMs\":40.3066,\"UserAgent\":\"cosmos-netstandard-sdk/3.12.0|3.11.4|10|X64|Linux 4.19.90-microsoft-standa|.NET Core 3.1.3|\",\"TotalRequestCount\":1,\"FailedRequestCount\":0},\"Context\":[{\"Id\":\"Microsoft.Azure.Cosmos.Handlers.DiagnosticsHandler\",\"HandlerElapsedTimeInMs\":40.2122},{\"Id\":\"SystemInfo\",\"CpuHistory\":\"(2021-01-11T05:37:32.2961037Z 100.000), (2021-01-11T05:37:42.2971958Z 0.000), (2021-01-11T05:37:52.2935190Z 0.000), (2021-01-11T05:37:52.3065046Z 0.000), (2021-01-11T05:38:02.2976343Z 0.000), (2021-01-11T05:38:42.2987030Z 1.587)\"},{\"Id\":\"Microsoft.Azure.Cosmos.Handlers.RetryHandler\",\"HandlerElapsedTimeInMs\":40.21},{\"Id\":\"Microsoft.Azure.Cosmos.Handlers.RouterHandler\",\"HandlerElapsedTimeInMs\":40.2038},{\"Id\":\"Microsoft.Azure.Cosmos.Handlers.TransportHandler\",\"HandlerElapsedTimeInMs\":0.3011},{\"Id\":\"AggregatedClientSideRequestStatistics\",\"ContactedReplicas\":[],\"RegionsContacted\":[\"https://project-timers-eastus.documents.azure.com:443/\"],\"FailedReplicas\":[]},{\"Id\":\"Microsoft.Azure.Documents.ServerStoreModel\",\"ElapsedTimeInMs\":40.1285},{\"Id\":\"StoreResponseStatistics\",\"StartTimeUtc\":\"2021-01-11T05:38:50.8450933Z\",\"ResponseTimeUtc\":\"2021-01-11T05:38:50.8851559Z\",\"ElapsedTimeInMs\":40.0626,\"ResourceType\":\"Document\",\"OperationType\":\"Read\",\"LocationEndpoint\":\"https://project-timers-eastus.documents.azure.com:443/\",\"ActivityId\":\"2fb103f1-0601-4389-9540-ef2439328f7e\",\"StoreResult\":\"StorePhysicalAddress: rntbd://cdb-ms-prod-eastus1-fd49.documents.azure.com:14145/apps/8acd1527-a022-4c2a-b2d9-2eea6c3b221d/services/f085975e-f496-48a5-ae43-5ce81ca5fab8/partitions/05064715-9b8e-4a86-8aab-236ca97ea635/replicas/132547803045701812s/, LSN: 6, GlobalCommittedLsn: 5, PartitionKeyRangeId: 0, IsValid: True, StatusCode: 200, SubStatusCode: 0, RequestCharge: 1, ItemLSN: 6, SessionToken: -1#6, UsingLocalLSN: True, TransportException: null\"}]} `",
            "text/plain": "<IPython.core.display.Markdown object>"
          },
          "metadata": {},
          "output_type": "display_data"
        },
        {
          "data": {
            "text/markdown": "Charges of query: **10.86**",
            "text/plain": "<IPython.core.display.Markdown object>"
          },
          "metadata": {},
          "output_type": "display_data"
        }
      ],
      "source": "ItemResponse<LogItem> queryResponse = await itemHost.ReadItemAsync<LogItem>(\r\n\r\n    partitionKey: new PartitionKey(\"EC2\"),\r\n    id: \"5\"\r\n);\r\n\r\nDisplay.AsMarkdown($\"Retreived document: `{queryResponse.Resource}`\");\r\nDisplay.AsMarkdown($\"#### Diagnostics for ReadItemAsync:\");\r\nDisplay.AsMarkdown($\"` {queryResponse.Diagnostics.ToString()} `\");\r\n\r\n\r\nLogItem endItem = (LogItem) queryResponse;\r\n\r\nendItem.EndedAt = DateTime.UtcNow;\r\n\r\nItemResponse<LogItem> upsertResponse = await itemHost.UpsertItemAsync(partitionKey: new PartitionKey(\"EC2\"), item: endItem);\r\nDisplay.AsMarkdown($\"Charges of query: **{upsertResponse.RequestCharge}**\");\r\n"
    }
  ],
  "metadata": {
    "kernelspec": {
      "displayName": "CSharp",
      "language": "csharp",
      "name": "csharp"
    },
    "language_info": {
      "codemirror_mode": "text/x-csharp",
      "file_extension": "ipynb",
      "mimetype": "application/json",
      "name": "csharp",
      "version": "7.3"
    },
    "nteract": {
      "version": "dataExplorer 1.0"
    }
  },
  "nbformat": 4,
  "nbformat_minor": 4
}